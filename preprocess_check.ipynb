{
 "cells": [
  {
   "cell_type": "code",
   "execution_count": 1,
   "metadata": {},
   "outputs": [],
   "source": [
    "from pyarrow import feather\n",
    "from pathlib import Path\n",
    "import requests\n",
    "from cairosvg import svg2png\n",
    "from io import BytesIO\n",
    "from tqdm import tqdm, trange\n",
    "import re\n",
    "import pdb\n",
    "import pandas as pd\n",
    "import json\n",
    "import pickle\n",
    "from PIL import Image"
   ]
  },
  {
   "cell_type": "code",
   "execution_count": 14,
   "metadata": {},
   "outputs": [],
   "source": [
    "data_path = Path('/data/kaiwen/ahrefs/dataset')\n",
    "\n",
    "train_df = feather.read_feather('/data/kaiwen/ahrefs/dataset/train_split.feather')\n",
    "val_df = feather.read_feather('/data/kaiwen/ahrefs/dataset/val_split.feather')"
   ]
  },
  {
   "cell_type": "code",
   "execution_count": 16,
   "metadata": {},
   "outputs": [
    {
     "data": {
      "text/plain": [
       "'https://cdn.dealerspike.com/imglib/v1/800x600/imglib/Assets/Inventory/F4/97/F497DB03-F9FE-4DBF-AB2B-513C3EE1C700.jpg'"
      ]
     },
     "execution_count": 16,
     "metadata": {},
     "output_type": "execute_result"
    }
   ],
   "source": [
    "train_df.loc[train_df['id']=='dbccc72ea88ef231a123ce9c08745244']['src'].values[0]"
   ]
  },
  {
   "cell_type": "code",
   "execution_count": 11,
   "metadata": {},
   "outputs": [
    {
     "data": {
      "text/plain": [
       "5664"
      ]
     },
     "execution_count": 11,
     "metadata": {},
     "output_type": "execute_result"
    }
   ],
   "source": [
    "with open(\"/data/kaiwen/ahrefs/dataset/lost_relevant.json\", 'r') as f:\n",
    "    d = json.load(f)\n",
    "    \n",
    "len(d)"
   ]
  },
  {
   "cell_type": "code",
   "execution_count": 9,
   "metadata": {},
   "outputs": [
    {
     "data": {
      "text/plain": [
       "48910"
      ]
     },
     "execution_count": 9,
     "metadata": {},
     "output_type": "execute_result"
    }
   ],
   "source": [
    "p = Path('/data/kaiwen/ahrefs/dataset/train_data')\n",
    "len(list(p.rglob(\"*.pkl\")))"
   ]
  },
  {
   "cell_type": "code",
   "execution_count": 17,
   "metadata": {},
   "outputs": [
    {
     "name": "stderr",
     "output_type": "stream",
     "text": [
      "/data/conda/envs/layoutlmv3/lib/python3.7/site-packages/PIL/Image.py:997: UserWarning: Palette images with Transparency expressed in bytes should be converted to RGBA images\n",
      "  \"Palette images with Transparency expressed in bytes should be \"\n",
      "/data/conda/envs/layoutlmv3/lib/python3.7/site-packages/PIL/TiffImagePlugin.py:858: UserWarning: Corrupt EXIF data.  Expecting to read 4 bytes but only got 2. \n",
      "  warnings.warn(str(msg))\n",
      "/data/conda/envs/layoutlmv3/lib/python3.7/site-packages/PIL/TiffImagePlugin.py:858: UserWarning: Corrupt EXIF data.  Expecting to read 2 bytes but only got 0. \n",
      "  warnings.warn(str(msg))\n"
     ]
    },
    {
     "name": "stdout",
     "output_type": "stream",
     "text": [
      "15336\n"
     ]
    }
   ],
   "source": [
    "dfs = [train_df, val_df]\n",
    "names = ['train', 'val']\n",
    "\n",
    "failed = []\n",
    "df_save = []\n",
    "# some images are blank, which will cause error when fine-tuning\n",
    "corrupted = ['af408364133664b68836a9a474717ce5', 'dbccc72ea88ef231a123ce9c08745244']\n",
    "\n",
    "for name, df in zip(names, dfs):\n",
    "    data_path_split = data_path / f\"{name}_data\"\n",
    "    for i in range(len(df)):\n",
    "        file_id = df['id'][i]\n",
    "        is_relevant = df['is_relevant'][i]\n",
    "        query = df['query'][i]\n",
    "        folder_num = i // 1000\n",
    "        data_path_final = data_path_split / f'{(folder_num+1)*1000}/{file_id}.pkl'\n",
    "        if df['is_relevant'][i]==1 and data_path_final.is_file() and file_id not in corrupted:\n",
    "            with open(data_path_final, 'rb') as f:\n",
    "                img = pickle.load(f)['image']\n",
    "            try:\n",
    "                image = Image.open(BytesIO(img)).convert(\"RGB\")\n",
    "                row = {'id': file_id, 'query': query, 'img_path': str(data_path_final)}\n",
    "                df_save.append(row)\n",
    "            except:\n",
    "                failed.append(file_id)\n",
    "                continue\n",
    "\n",
    "df_save = pd.DataFrame(df_save).reset_index(drop=True)\n",
    "print(len(df_save))\n",
    "df_save.to_feather(data_path / \"train_final_df.feather\")"
   ]
  },
  {
   "cell_type": "code",
   "execution_count": 11,
   "metadata": {},
   "outputs": [
    {
     "data": {
      "text/plain": [
       "209"
      ]
     },
     "execution_count": 11,
     "metadata": {},
     "output_type": "execute_result"
    }
   ],
   "source": [
    "15336"
   ]
  },
  {
   "cell_type": "code",
   "execution_count": 27,
   "metadata": {},
   "outputs": [
    {
     "data": {
      "text/plain": [
       "730"
      ]
     },
     "execution_count": 27,
     "metadata": {},
     "output_type": "execute_result"
    }
   ],
   "source": [
    "d1 = feather.read_feather('/data/kaiwen/ahrefs/dataset/train_final_df.feather')\n",
    "d2 = feather.read_feather('/data/kaiwen/ahrefs/dataset/val_final_df.feather')\n",
    "\n",
    "len(list(set(d1['query'].unique()).union(set(d2['query'].unique()))))\n",
    "# list(set(d1['query'].unique()).update(set(d2['query'].unique())))"
   ]
  },
  {
   "cell_type": "code",
   "execution_count": 29,
   "metadata": {},
   "outputs": [
    {
     "ename": "SyntaxError",
     "evalue": "invalid syntax (3977427914.py, line 2)",
     "output_type": "error",
     "traceback": [
      "\u001b[0;36m  File \u001b[0;32m\"/tmp/ipykernel_25943/3977427914.py\"\u001b[0;36m, line \u001b[0;32m2\u001b[0m\n\u001b[0;31m    s = [0 for l in labels if l==1 else 1]\u001b[0m\n\u001b[0m                                      ^\u001b[0m\n\u001b[0;31mSyntaxError\u001b[0m\u001b[0;31m:\u001b[0m invalid syntax\n"
     ]
    }
   ],
   "source": [
    "labels = [1, 2, 3]\n",
    "s = [0 for l in labels if l==1 else 1]"
   ]
  },
  {
   "cell_type": "code",
   "execution_count": 30,
   "metadata": {},
   "outputs": [],
   "source": [
    "to_skip = []\n",
    "img_error = []"
   ]
  },
  {
   "cell_type": "code",
   "execution_count": 31,
   "metadata": {},
   "outputs": [
    {
     "name": "stderr",
     "output_type": "stream",
     "text": [
      "  8%|▊         | 85/1000 [01:29<18:15,  1.20s/it]"
     ]
    }
   ],
   "source": [
    "# user_agent='Mozilla/5.0 (Windows; U; Windows NT 5.1; en-US; rv:1.9.0.7) Gecko/2009021910 Firefox/3.0.7'\n",
    "user_agent = 'Mozilla/5.0 (Linux; U; Android 4.0.4; en-gb; GT-I9300 Build/IMM76D) AppleWebKit/534.30 (KHTML, like Gecko) Version/4.0 Mobile Safari/534.30'\n",
    "requests.adapters.DEFAULT_RETRIES = 3\n",
    "\n",
    "for i in trange(1000):\n",
    "    id = df['id'][i]\n",
    "    img_url = df['src'][i]\n",
    "    parsed_url = re.search(r'(.*\\.(jpg|JPG|png|PNG|svg|npj|webp|gif))(.*)', img_url)\n",
    "    img_url = parsed_url.group(1) if parsed_url else img_url\n",
    "    if (data_path / f\"1000/{id}.pkl\").is_file() or id in to_skip:\n",
    "        continue\n",
    "    \n",
    "    surfix = img_url.split(\".\")[-1].split(\"?\")[0]\n",
    "    try:\n",
    "        response = requests.get(img_url, headers={\"User-Agent\": user_agent}, timeout=10, stream=True)\n",
    "    except:\n",
    "        to_skip.append(id)\n",
    "        continue\n",
    "    if response.status_code==200:\n",
    "        try:\n",
    "            if surfix=='svg':\n",
    "                img = svg2png(bytestring=BytesIO(response.content).read())\n",
    "            else:\n",
    "                img = BytesIO(response.content).getvalue()\n",
    "        except:\n",
    "            print(img_url)\n",
    "            img_error.append(img_url)\n",
    "    else:\n",
    "        to_skip.append(id)\n",
    "        continue"
   ]
  },
  {
   "cell_type": "code",
   "execution_count": 20,
   "metadata": {},
   "outputs": [
    {
     "name": "stdout",
     "output_type": "stream",
     "text": [
      "https://cdn.myoperator.com/img/partner/samsung.svg\n"
     ]
    },
    {
     "name": "stderr",
     "output_type": "stream",
     "text": [
      "/data/conda/envs/layoutlmv3/lib/python3.7/site-packages/urllib3/connectionpool.py:1052: InsecureRequestWarning: Unverified HTTPS request is being made to host 'cdn.myoperator.com'. Adding certificate verification is strongly advised. See: https://urllib3.readthedocs.io/en/1.26.x/advanced-usage.html#ssl-warnings\n",
      "  InsecureRequestWarning,\n"
     ]
    },
    {
     "data": {
      "text/plain": [
       "200"
      ]
     },
     "execution_count": 20,
     "metadata": {},
     "output_type": "execute_result"
    }
   ],
   "source": [
    "import requests\n",
    "requests.adapters.DEFAULT_RETRIES = 5\n",
    "\n",
    "img_url = 'https://cdn.myoperator.com/img/partner/samsung.svg'\n",
    "parsed_url = re.search(r'(.*\\.(jpg|JPG|png|PNG|svg|npj|webp|gif))(.*)', img_url)\n",
    "img_url = parsed_url.group(1) if parsed_url else img_url\n",
    "print(img_url)\n",
    "# session = requests.Session()\n",
    "# retry = Retry(connect=3, backoff_factor=0.5)\n",
    "# adapter = HTTPAdapter(max_retries=retry)\n",
    "# session.mount('http://', adapter)\n",
    "# session.mount('https://', adapter)\n",
    "\n",
    "# session.get(img_url)\n",
    "\n",
    "# img_url = re.search(r'(.*\\.(jpg|JPG|png|PNG|svg|npj|webp|gif))(.*)', img_url).group(1)\n",
    "response = requests.get(img_url, verify=False, timeout=10, stream=True)\n",
    "response.status_code"
   ]
  }
 ],
 "metadata": {
  "kernelspec": {
   "display_name": "layoutlmv3",
   "language": "python",
   "name": "python3"
  },
  "language_info": {
   "codemirror_mode": {
    "name": "ipython",
    "version": 3
   },
   "file_extension": ".py",
   "mimetype": "text/x-python",
   "name": "python",
   "nbconvert_exporter": "python",
   "pygments_lexer": "ipython3",
   "version": "3.7.12"
  },
  "orig_nbformat": 4,
  "vscode": {
   "interpreter": {
    "hash": "f2198dc472eedf8f78f663ea0f2037e21bfb322ef2432b7169754ec07af07ac7"
   }
  }
 },
 "nbformat": 4,
 "nbformat_minor": 2
}
